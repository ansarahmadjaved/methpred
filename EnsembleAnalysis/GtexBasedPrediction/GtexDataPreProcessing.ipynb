{
 "cells": [
  {
   "cell_type": "code",
   "execution_count": 228,
   "metadata": {},
   "outputs": [],
   "source": [
    "import pandas as pd\n",
    "import GEOparse as Geo\n",
    "import seaborn as sns"
   ]
  },
  {
   "cell_type": "code",
   "execution_count": 79,
   "metadata": {},
   "outputs": [],
   "source": [
    "GtexTPM = pd.read_pickle('GTEX.TPM.pkl')\n",
    "GtexMeth = pd.read_table('GSE213478_methylation_DNAm_noob_final_BMIQ_all_tissues_987.txt.gz', low_memory=False, compression='gzip', comment='#', header=0, sep=',')\n",
    "GtexMeth = GtexMeth.set_index('Unnamed: 0')\n",
    "commonDonors = list(set(GtexTPM.columns[2:].map(lambda x: '-'.join(x.split('-')[:3]))).intersection(GtexMeth.columns[2:].map(lambda x: '-'.join(x.split('-')[:3]))))\n",
    "len(commonDonors)\n",
    "pd.Series(commonDonors).to_csv('Gtex.paired.samples.csv', index=True)\n",
    "GtexTPM = GtexTPM.set_index('Description')\n",
    "GtexTPM = GtexTPM.drop('Name', axis=1)\n",
    "GtexTPM.columns = GtexTPM.columns.map(lambda x: '-'.join(x.split('-')[:3]))\n",
    "\n",
    "GtexMeth.columns = GtexMeth.columns.map(lambda x: '-'.join(x.split('-')[:3]))\n",
    "\n",
    "GtexTPM[commonDonors].to_pickle('GtexTPM.common.pkl')\n",
    "GtexMeth[commonDonors].to_pickle('GtexMeth.common.pkl')"
   ]
  },
  {
   "cell_type": "code",
   "execution_count": null,
   "metadata": {},
   "outputs": [
    {
     "name": "stderr",
     "output_type": "stream",
     "text": [
      "/tmp/ipykernel_2397351/2865348599.py:1: DtypeWarning: Columns (18) have mixed types. Specify dtype option on import or set low_memory=False.\n",
      "  GtexMeta = pd.read_csv('GTEx_Analysis_v10_Annotations_SampleAttributesDS.txt', sep='\\t', comment='#')\n"
     ]
    }
   ],
   "source": [
    "GtexMeta = pd.read_csv('GTEx_Analysis_v10_Annotations_SampleAttributesDS.txt', sep='\\t', comment='#')\n",
    "GtexMeta = GtexMeta.set_index('SAMPID')\n",
    "GtexMeta2 = pd.read_table('GTEX.meta.txt.gz', compression='gzip',sep='\\t',comment='#')"
   ]
  }
 ],
 "metadata": {
  "kernelspec": {
   "display_name": ".venv",
   "language": "python",
   "name": "python3"
  },
  "language_info": {
   "codemirror_mode": {
    "name": "ipython",
    "version": 3
   },
   "file_extension": ".py",
   "mimetype": "text/x-python",
   "name": "python",
   "nbconvert_exporter": "python",
   "pygments_lexer": "ipython3",
   "version": "3.10.14"
  }
 },
 "nbformat": 4,
 "nbformat_minor": 2
}
