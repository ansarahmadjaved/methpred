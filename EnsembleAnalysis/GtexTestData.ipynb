{
 "cells": [
  {
   "cell_type": "code",
   "execution_count": 1,
   "metadata": {},
   "outputs": [],
   "source": [
    "import pandas as pd"
   ]
  },
  {
   "cell_type": "code",
   "execution_count": 17,
   "metadata": {},
   "outputs": [],
   "source": [
    "df = pd.read_table('/home/sbl/Downloads/GTEx_Analysis_2017-06-05_v8_RSEMv1.3.0_transcript_tpm.gct.gz', sep='\\t', comment='#',header=1, low_memory=False)"
   ]
  },
  {
   "cell_type": "code",
   "execution_count": 19,
   "metadata": {},
   "outputs": [],
   "source": [
    "df.to_pickle('GtexTPM.pkl')"
   ]
  },
  {
   "cell_type": "code",
   "execution_count": 46,
   "metadata": {},
   "outputs": [],
   "source": [
    "GtexMeth = pd.read_table('/home/sbl/Downloads/GSE213478_methylation_DNAm_noob_final_BMIQ_all_tissues_987.txt.gz', low_memory=False, compression='gzip', comment='#', header=0, sep=',')"
   ]
  },
  {
   "cell_type": "code",
   "execution_count": null,
   "metadata": {},
   "outputs": [],
   "source": [
    "GtexMeth.index = GtexMeth['Unnamed: 0']\n",
    "GtexMeth = GtexMeth.drop('Unnamed: 0', axis=1)"
   ]
  },
  {
   "cell_type": "code",
   "execution_count": 62,
   "metadata": {},
   "outputs": [
    {
     "data": {
      "text/plain": [
       "Index(['transcript_id', 'gene_id', 'GTEX-1117F-0226-SM-5GZZ7',\n",
       "       'GTEX-1117F-0426-SM-5EGHI', 'GTEX-1117F-0526-SM-5EGHJ',\n",
       "       'GTEX-1117F-0626-SM-5N9CS', 'GTEX-1117F-0726-SM-5GIEN',\n",
       "       'GTEX-1117F-1326-SM-5EGHH', 'GTEX-1117F-2426-SM-5EGGH',\n",
       "       'GTEX-1117F-2526-SM-5GZY6',\n",
       "       ...\n",
       "       'GTEX-ZZPU-1126-SM-5N9CW', 'GTEX-ZZPU-1226-SM-5N9CK',\n",
       "       'GTEX-ZZPU-1326-SM-5GZWS', 'GTEX-ZZPU-1426-SM-5GZZ6',\n",
       "       'GTEX-ZZPU-1826-SM-5E43L', 'GTEX-ZZPU-2126-SM-5EGIU',\n",
       "       'GTEX-ZZPU-2226-SM-5EGIV', 'GTEX-ZZPU-2426-SM-5E44I',\n",
       "       'GTEX-ZZPU-2626-SM-5E45Y', 'GTEX-ZZPU-2726-SM-5NQ8O'],\n",
       "      dtype='object', length=17384)"
      ]
     },
     "execution_count": 62,
     "metadata": {},
     "output_type": "execute_result"
    }
   ],
   "source": [
    "df.columns"
   ]
  },
  {
   "cell_type": "code",
   "execution_count": 61,
   "metadata": {},
   "outputs": [
    {
     "data": {
      "text/plain": [
       "Index(['GTEX-11EM3-1326-SM-GW24C', 'GTEX-11EMC-2026-SM-GW242',\n",
       "       'GTEX-11GSP-0926-SM-GW21X', 'GTEX-13D11-1026-SM-GW1D7',\n",
       "       'GTEX-13PL6-2926-SM-GW1SN', 'GTEX-147F3-1626-SM-GW1DU',\n",
       "       'GTEX-14BIL-2526-SM-GW1SZ', 'GTEX-14BIN-1826-SM-GW1X6',\n",
       "       'GTEX-14E6C-1326-SM-GW1D1', 'GTEX-14H4A-2526-SM-GW1GY',\n",
       "       ...\n",
       "       'GTEX-X261-0002-SM-GW17B', 'GTEX-X4EP-0002-SM-GW17R',\n",
       "       'GTEX-X4XX-0004-SM-GW17N', 'GTEX-X585-0003-SM-GW17P',\n",
       "       'GTEX-X5EB-0001-SM-GW17Y', 'GTEX-XMK1-0003-SM-GW2B7',\n",
       "       'GTEX-XPT6-0004-SM-GW1DN', 'GTEX-YFC4-0001-SM-GW1YL',\n",
       "       'GTEX-YFCO-0001-SM-GW29R', 'GTEX-ZAB4-0001-SM-GW24D'],\n",
       "      dtype='object', length=987)"
      ]
     },
     "execution_count": 61,
     "metadata": {},
     "output_type": "execute_result"
    }
   ],
   "source": [
    "GtexMeth.columns"
   ]
  },
  {
   "cell_type": "code",
   "execution_count": 76,
   "metadata": {},
   "outputs": [
    {
     "data": {
      "text/html": [
       "<div>\n",
       "<style scoped>\n",
       "    .dataframe tbody tr th:only-of-type {\n",
       "        vertical-align: middle;\n",
       "    }\n",
       "\n",
       "    .dataframe tbody tr th {\n",
       "        vertical-align: top;\n",
       "    }\n",
       "\n",
       "    .dataframe thead th {\n",
       "        text-align: right;\n",
       "    }\n",
       "</style>\n",
       "<table border=\"1\" class=\"dataframe\">\n",
       "  <thead>\n",
       "    <tr style=\"text-align: right;\">\n",
       "      <th></th>\n",
       "      <th>dbGaP_Subject_ID</th>\n",
       "      <th>SUBJID</th>\n",
       "      <th>COHORT</th>\n",
       "      <th>SEX</th>\n",
       "      <th>AGE</th>\n",
       "      <th>RACE</th>\n",
       "      <th>ETHNCTY</th>\n",
       "      <th>HGHT</th>\n",
       "      <th>HGHTU</th>\n",
       "      <th>WGHT</th>\n",
       "      <th>...</th>\n",
       "      <th>MHTXCEXP</th>\n",
       "      <th>MHUK8096</th>\n",
       "      <th>MHUREMIA</th>\n",
       "      <th>MHWKNSSU</th>\n",
       "      <th>MHWNVCT</th>\n",
       "      <th>MHWNVHX</th>\n",
       "      <th>MHWTLSUA</th>\n",
       "      <th>MHWTLSUB</th>\n",
       "      <th>DTHSEASON</th>\n",
       "      <th>DTHTIME</th>\n",
       "    </tr>\n",
       "  </thead>\n",
       "  <tbody>\n",
       "    <tr>\n",
       "      <th>0</th>\n",
       "      <td>984928</td>\n",
       "      <td>GTEX-1117F</td>\n",
       "      <td>Postmortem</td>\n",
       "      <td>2</td>\n",
       "      <td>66</td>\n",
       "      <td>2</td>\n",
       "      <td>0</td>\n",
       "      <td>66.0</td>\n",
       "      <td>in</td>\n",
       "      <td>199.0</td>\n",
       "      <td>...</td>\n",
       "      <td>NaN</td>\n",
       "      <td>NaN</td>\n",
       "      <td>NaN</td>\n",
       "      <td>NaN</td>\n",
       "      <td>NaN</td>\n",
       "      <td>NaN</td>\n",
       "      <td>NaN</td>\n",
       "      <td>NaN</td>\n",
       "      <td>NaN</td>\n",
       "      <td>NaN</td>\n",
       "    </tr>\n",
       "    <tr>\n",
       "      <th>1</th>\n",
       "      <td>984929</td>\n",
       "      <td>GTEX-111CU</td>\n",
       "      <td>Organ Donor (OPO)</td>\n",
       "      <td>1</td>\n",
       "      <td>57</td>\n",
       "      <td>3</td>\n",
       "      <td>0</td>\n",
       "      <td>70.0</td>\n",
       "      <td>in</td>\n",
       "      <td>234.0</td>\n",
       "      <td>...</td>\n",
       "      <td>NaN</td>\n",
       "      <td>NaN</td>\n",
       "      <td>NaN</td>\n",
       "      <td>NaN</td>\n",
       "      <td>NaN</td>\n",
       "      <td>NaN</td>\n",
       "      <td>NaN</td>\n",
       "      <td>NaN</td>\n",
       "      <td>NaN</td>\n",
       "      <td>NaN</td>\n",
       "    </tr>\n",
       "    <tr>\n",
       "      <th>2</th>\n",
       "      <td>984930</td>\n",
       "      <td>GTEX-111FC</td>\n",
       "      <td>Postmortem</td>\n",
       "      <td>1</td>\n",
       "      <td>61</td>\n",
       "      <td>3</td>\n",
       "      <td>0</td>\n",
       "      <td>73.0</td>\n",
       "      <td>in</td>\n",
       "      <td>190.0</td>\n",
       "      <td>...</td>\n",
       "      <td>0.0</td>\n",
       "      <td>0.0</td>\n",
       "      <td>0.0</td>\n",
       "      <td>0.0</td>\n",
       "      <td>0.0</td>\n",
       "      <td>0.0</td>\n",
       "      <td>0.0</td>\n",
       "      <td>0.0</td>\n",
       "      <td>Spring</td>\n",
       "      <td>12:30</td>\n",
       "    </tr>\n",
       "    <tr>\n",
       "      <th>3</th>\n",
       "      <td>984931</td>\n",
       "      <td>GTEX-111VG</td>\n",
       "      <td>Postmortem</td>\n",
       "      <td>1</td>\n",
       "      <td>63</td>\n",
       "      <td>3</td>\n",
       "      <td>0</td>\n",
       "      <td>69.0</td>\n",
       "      <td>in</td>\n",
       "      <td>200.0</td>\n",
       "      <td>...</td>\n",
       "      <td>NaN</td>\n",
       "      <td>NaN</td>\n",
       "      <td>NaN</td>\n",
       "      <td>NaN</td>\n",
       "      <td>NaN</td>\n",
       "      <td>NaN</td>\n",
       "      <td>NaN</td>\n",
       "      <td>NaN</td>\n",
       "      <td>NaN</td>\n",
       "      <td>NaN</td>\n",
       "    </tr>\n",
       "    <tr>\n",
       "      <th>4</th>\n",
       "      <td>984932</td>\n",
       "      <td>GTEX-111YS</td>\n",
       "      <td>Organ Donor (OPO)</td>\n",
       "      <td>1</td>\n",
       "      <td>62</td>\n",
       "      <td>3</td>\n",
       "      <td>0</td>\n",
       "      <td>72.0</td>\n",
       "      <td>in</td>\n",
       "      <td>227.0</td>\n",
       "      <td>...</td>\n",
       "      <td>NaN</td>\n",
       "      <td>NaN</td>\n",
       "      <td>NaN</td>\n",
       "      <td>NaN</td>\n",
       "      <td>NaN</td>\n",
       "      <td>NaN</td>\n",
       "      <td>NaN</td>\n",
       "      <td>NaN</td>\n",
       "      <td>NaN</td>\n",
       "      <td>NaN</td>\n",
       "    </tr>\n",
       "  </tbody>\n",
       "</table>\n",
       "<p>5 rows × 190 columns</p>\n",
       "</div>"
      ],
      "text/plain": [
       "   dbGaP_Subject_ID      SUBJID             COHORT  SEX  AGE  RACE  ETHNCTY  \\\n",
       "0            984928  GTEX-1117F         Postmortem    2   66     2        0   \n",
       "1            984929  GTEX-111CU  Organ Donor (OPO)    1   57     3        0   \n",
       "2            984930  GTEX-111FC         Postmortem    1   61     3        0   \n",
       "3            984931  GTEX-111VG         Postmortem    1   63     3        0   \n",
       "4            984932  GTEX-111YS  Organ Donor (OPO)    1   62     3        0   \n",
       "\n",
       "   HGHT HGHTU   WGHT  ... MHTXCEXP  MHUK8096 MHUREMIA MHWKNSSU  MHWNVCT  \\\n",
       "0  66.0    in  199.0  ...      NaN       NaN      NaN      NaN      NaN   \n",
       "1  70.0    in  234.0  ...      NaN       NaN      NaN      NaN      NaN   \n",
       "2  73.0    in  190.0  ...      0.0       0.0      0.0      0.0      0.0   \n",
       "3  69.0    in  200.0  ...      NaN       NaN      NaN      NaN      NaN   \n",
       "4  72.0    in  227.0  ...      NaN       NaN      NaN      NaN      NaN   \n",
       "\n",
       "  MHWNVHX  MHWTLSUA MHWTLSUB  DTHSEASON DTHTIME  \n",
       "0     NaN       NaN      NaN        NaN     NaN  \n",
       "1     NaN       NaN      NaN        NaN     NaN  \n",
       "2     0.0       0.0      0.0     Spring   12:30  \n",
       "3     NaN       NaN      NaN        NaN     NaN  \n",
       "4     NaN       NaN      NaN        NaN     NaN  \n",
       "\n",
       "[5 rows x 190 columns]"
      ]
     },
     "execution_count": 76,
     "metadata": {},
     "output_type": "execute_result"
    }
   ],
   "source": [
    "GtexMeta = pd.read_csv('/home/sbl/Documents/GTEXaging/GTEXdata/GTEX.meta.txt.gz', compression='gzip', sep='\\t', comment='#')\n",
    "GtexMeta.head()"
   ]
  },
  {
   "cell_type": "code",
   "execution_count": 106,
   "metadata": {},
   "outputs": [
    {
     "ename": "TypeError",
     "evalue": "Index does not support mutable operations",
     "output_type": "error",
     "traceback": [
      "\u001b[0;31m---------------------------------------------------------------------------\u001b[0m",
      "\u001b[0;31mTypeError\u001b[0m                                 Traceback (most recent call last)",
      "Cell \u001b[0;32mIn[106], line 1\u001b[0m\n\u001b[0;32m----> 1\u001b[0m \u001b[43mdf\u001b[49m\u001b[38;5;241;43m.\u001b[39;49m\u001b[43mcolumns\u001b[49m\u001b[43m[\u001b[49m\u001b[38;5;241;43m2\u001b[39;49m\u001b[43m:\u001b[49m\u001b[43m]\u001b[49m \u001b[38;5;241m=\u001b[39m pd\u001b[38;5;241m.\u001b[39mSeries(df\u001b[38;5;241m.\u001b[39mcolumns[\u001b[38;5;241m2\u001b[39m:])\u001b[38;5;241m.\u001b[39mapply(\u001b[38;5;28;01mlambda\u001b[39;00m x : \u001b[38;5;124m\"\u001b[39m\u001b[38;5;124m-\u001b[39m\u001b[38;5;124m\"\u001b[39m\u001b[38;5;241m.\u001b[39mjoin(x\u001b[38;5;241m.\u001b[39msplit(\u001b[38;5;124m'\u001b[39m\u001b[38;5;124m-\u001b[39m\u001b[38;5;124m'\u001b[39m)[:\u001b[38;5;241m2\u001b[39m]))\u001b[38;5;241m.\u001b[39mvalues\n",
      "File \u001b[0;32m~/.local/lib/python3.10/site-packages/pandas/core/indexes/base.py:5371\u001b[0m, in \u001b[0;36mIndex.__setitem__\u001b[0;34m(self, key, value)\u001b[0m\n\u001b[1;32m   5369\u001b[0m \u001b[38;5;129m@final\u001b[39m\n\u001b[1;32m   5370\u001b[0m \u001b[38;5;28;01mdef\u001b[39;00m \u001b[38;5;21m__setitem__\u001b[39m(\u001b[38;5;28mself\u001b[39m, key, value) \u001b[38;5;241m-\u001b[39m\u001b[38;5;241m>\u001b[39m \u001b[38;5;28;01mNone\u001b[39;00m:\n\u001b[0;32m-> 5371\u001b[0m     \u001b[38;5;28;01mraise\u001b[39;00m \u001b[38;5;167;01mTypeError\u001b[39;00m(\u001b[38;5;124m\"\u001b[39m\u001b[38;5;124mIndex does not support mutable operations\u001b[39m\u001b[38;5;124m\"\u001b[39m)\n",
      "\u001b[0;31mTypeError\u001b[0m: Index does not support mutable operations"
     ]
    }
   ],
   "source": [
    "df.columns[2:] = pd.Series(df.columns[2:]).apply(lambda x : \"-\".join(x.split('-')[:2])).values"
   ]
  },
  {
   "cell_type": "code",
   "execution_count": 110,
   "metadata": {},
   "outputs": [],
   "source": [
    "df = df.set_index('transcript_id')"
   ]
  },
  {
   "cell_type": "code",
   "execution_count": 112,
   "metadata": {},
   "outputs": [],
   "source": [
    "df = df.drop('gene_id', axis=1)"
   ]
  },
  {
   "cell_type": "code",
   "execution_count": 115,
   "metadata": {},
   "outputs": [],
   "source": [
    "df.columns = pd.Series(df.columns).apply(lambda x : \"-\".join(x.split('-')[:2])).values"
   ]
  },
  {
   "cell_type": "code",
   "execution_count": 137,
   "metadata": {},
   "outputs": [],
   "source": [
    "# df.columns.unique()\n",
    "GtexMeth.columns = pd.Series(GtexMeth.columns).apply(lambda x : \"-\".join(x.split('-')[:2])).values"
   ]
  },
  {
   "cell_type": "code",
   "execution_count": 147,
   "metadata": {},
   "outputs": [],
   "source": [
    "CommonDonors = list(set(GtexMeth.columns.unique()).intersection(set(df.columns)))"
   ]
  },
  {
   "cell_type": "code",
   "execution_count": 150,
   "metadata": {},
   "outputs": [],
   "source": [
    "df[CommonDonors].to_pickle('GtexTPM.common.pkl')"
   ]
  },
  {
   "cell_type": "code",
   "execution_count": 153,
   "metadata": {},
   "outputs": [],
   "source": [
    "GtexMeth[CommonDonors].to_pickle('GtexMeth.common.pkl')"
   ]
  }
 ],
 "metadata": {
  "kernelspec": {
   "display_name": "Python 3",
   "language": "python",
   "name": "python3"
  },
  "language_info": {
   "codemirror_mode": {
    "name": "ipython",
    "version": 3
   },
   "file_extension": ".py",
   "mimetype": "text/x-python",
   "name": "python",
   "nbconvert_exporter": "python",
   "pygments_lexer": "ipython3",
   "version": "3.10.12"
  }
 },
 "nbformat": 4,
 "nbformat_minor": 2
}
