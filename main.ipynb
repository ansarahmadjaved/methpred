{
 "cells": [
  {
   "cell_type": "code",
   "execution_count": 1,
   "metadata": {},
   "outputs": [],
   "source": [
    "import pandas as pd"
   ]
  },
  {
   "cell_type": "markdown",
   "metadata": {},
   "source": [
    "## DataAnalysis"
   ]
  },
  {
   "cell_type": "markdown",
   "metadata": {},
   "source": [
    "### Reading and saving Datasets"
   ]
  },
  {
   "cell_type": "code",
   "execution_count": 31,
   "metadata": {},
   "outputs": [],
   "source": [
    "MethTCGA = pd.read_pickle('/home/sbl/Documents/TCGA/Pan Cancer/pancan_methylation.pkl')\n",
    "MethTCGA = MethTCGA.T"
   ]
  },
  {
   "cell_type": "code",
   "execution_count": 66,
   "metadata": {},
   "outputs": [],
   "source": [
    "df = pd.read_csv('tcga_Kallisto_tpm.gz', compression='gzip', low_memory=False, sep='\\t')\n",
    "df = df.set_index('sample')\n",
    "df.to_pickle('TCGA.Kallisto.TPM.pkl')"
   ]
  },
  {
   "cell_type": "code",
   "execution_count": 70,
   "metadata": {},
   "outputs": [],
   "source": [
    "df = pd.read_csv('tcga_rsem_isoform_tpm.gz', compression='gzip', low_memory=False, sep='\\t')\n",
    "df = df.set_index('sample')\n",
    "df.to_pickle('TCGA.RSEM.TPM.pkl')"
   ]
  },
  {
   "cell_type": "markdown",
   "metadata": {},
   "source": [
    "#### Comparing Kallisto vs RSEM to use for downstream prediction"
   ]
  },
  {
   "cell_type": "code",
   "execution_count": 2,
   "metadata": {},
   "outputs": [],
   "source": [
    "df_Kallisto = pd.read_pickle('TCGA.Kallisto.TPM.pkl')\n",
    "df_Kallisto = df_Kallisto.set_index('sample')"
   ]
  },
  {
   "cell_type": "code",
   "execution_count": 4,
   "metadata": {},
   "outputs": [],
   "source": [
    "df_rsem = pd.read_pickle('TCGA.RSEM.TPM.pkl')"
   ]
  },
  {
   "cell_type": "code",
   "execution_count": 6,
   "metadata": {},
   "outputs": [],
   "source": [
    "from scipy import stats"
   ]
  },
  {
   "cell_type": "code",
   "execution_count": 11,
   "metadata": {},
   "outputs": [],
   "source": [
    "merged = pd.merge(df_Kallisto[['TCGA-19-1787-01']], df_rsem[['TCGA-19-1787-01']], right_index=True, left_index=True)"
   ]
  },
  {
   "cell_type": "code",
   "execution_count": 29,
   "metadata": {},
   "outputs": [
    {
     "data": {
      "text/plain": [
       "PearsonRResult(statistic=0.8393262416703067, pvalue=0.0)"
      ]
     },
     "execution_count": 29,
     "metadata": {},
     "output_type": "execute_result"
    }
   ],
   "source": [
    "stats.pearsonr(merged.T.values[0], merged.T.values[1])"
   ]
  },
  {
   "cell_type": "markdown",
   "metadata": {
    "notebookRunGroups": {
     "groupValue": "2"
    }
   },
   "source": [
    "## Downstream Analysis"
   ]
  },
  {
   "cell_type": "code",
   "execution_count": null,
   "metadata": {},
   "outputs": [],
   "source": [
    "Meth450Annotations = pd.read_table('HM450.hg38.manifest.gencode.v22.tsv.gz', compression='gzip', low_memory=False, sep='\\t')\n",
    "Meth450Annotations = Meth450Annotations.dropna(subset='transcriptIDs')\n",
    "Meth450Annotations.loc[:, 'transcriptTypes'] = Meth450Annotations['transcriptTypes'].str.split(';')\n",
    "Meth450Annotations = Meth450Annotations.explode('transcriptTypes')\n",
    "Meth450Annotations['transcriptTypes'].value_counts()\n",
    "Meth450Annotations[Meth450Annotations['transcriptIDs'] == 'ENST00000414296.2']"
   ]
  }
 ],
 "metadata": {
  "kernelspec": {
   "display_name": "Python 3",
   "language": "python",
   "name": "python3"
  },
  "language_info": {
   "codemirror_mode": {
    "name": "ipython",
    "version": 3
   },
   "file_extension": ".py",
   "mimetype": "text/x-python",
   "name": "python",
   "nbconvert_exporter": "python",
   "pygments_lexer": "ipython3",
   "version": "3.10.12"
  }
 },
 "nbformat": 4,
 "nbformat_minor": 2
}
